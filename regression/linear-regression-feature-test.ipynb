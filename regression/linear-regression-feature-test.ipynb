{
 "cells": [
  {
   "cell_type": "markdown",
   "metadata": {},
   "source": [
    "This notebook demonstrates some feature for the distribution of data following linear regression development"
   ]
  },
  {
   "cell_type": "code",
   "execution_count": 1,
   "metadata": {},
   "outputs": [],
   "source": [
    "from sklearn.datasets import make_regression\n",
    "from matplotlib import pyplot as plt\n",
    "import numpy as np\n",
    "\n",
    "def generate_lin_regression(slope_negative=False):\n",
    "    X,y = make_regression(n_samples=10, n_features = 1, n_targets=1, noise=0.2)\n",
    "    if (slope_negative):\n",
    "        y = -y # negative sloping\n",
    "    flat_x = np.ndarray.flatten(X)\n",
    "    return flat_x, y  "
   ]
  },
  {
   "cell_type": "code",
   "execution_count": 2,
   "metadata": {},
   "outputs": [
    {
     "data": {
      "image/png": "[encoded data removed]",
      "text/plain": [
       "<Figure size 432x288 with 1 Axes>"
      ]
     },
     "metadata": {},
     "output_type": "display_data"
    }
   ],
   "source": [
    "%matplotlib inline\n",
    "# https://machinelearningmastery.com/generate-test-datasets-python-scikit-learn/\n",
    "# https://www.sohamkamani.com/blog/2018/01/28/linear-regression-with-python/\n",
    "\n",
    "x,y = generate_lin_regression()\n",
    "\n",
    "plt.scatter(x,y)\n",
    "plt.show()\n"
   ]
  },
  {
   "cell_type": "code",
   "execution_count": 3,
   "metadata": {},
   "outputs": [],
   "source": [
    "from scipy.stats import linregress"
   ]
  },
  {
   "cell_type": "code",
   "execution_count": 4,
   "metadata": {},
   "outputs": [],
   "source": [
    "linear_model =linregress(x,y)\n",
    "slope, intercept = linear_model.slope, linear_model.intercept"
   ]
  },
  {
   "cell_type": "code",
   "execution_count": 5,
   "metadata": {},
   "outputs": [
    {
     "name": "stdout",
     "output_type": "stream",
     "text": [
      "slope:  33.575853506042804\n",
      "intercept:  -0.019658776119968024\n"
     ]
    }
   ],
   "source": [
    "print(\"slope: \", slope)\n",
    "print(\"intercept: \", intercept)"
   ]
  },
  {
   "cell_type": "code",
   "execution_count": 6,
   "metadata": {},
   "outputs": [],
   "source": [
    "def get_positive_sign(slope):\n",
    "    \"\"\"\n",
    "    if the slop is positive returns 1 and for zero and negative slop returns 0\n",
    "    \"\"\"\n",
    "    # int() turns the boolean into 1 or 0. \n",
    "    # Note that any value not equal to 'true' will result in 0 being returned.\n",
    "    return int(slope > 0)"
   ]
  },
  {
   "cell_type": "code",
   "execution_count": 7,
   "metadata": {},
   "outputs": [
    {
     "name": "stdout",
     "output_type": "stream",
     "text": [
      "1\n"
     ]
    }
   ],
   "source": [
    "print(get_positive_sign(slope))"
   ]
  },
  {
   "cell_type": "code",
   "execution_count": 8,
   "metadata": {},
   "outputs": [
    {
     "data": {
      "image/png": "[encoded data removed]",
      "text/plain": [
       "<Figure size 432x288 with 1 Axes>"
      ]
     },
     "metadata": {},
     "output_type": "display_data"
    }
   ],
   "source": [
    "set_negative_slope = True\n",
    "x,y = generate_lin_regression(set_negative_slope)\n",
    "plt.scatter(x,y)\n",
    "plt.show()"
   ]
  },
  {
   "cell_type": "code",
   "execution_count": 9,
   "metadata": {},
   "outputs": [
    {
     "name": "stdout",
     "output_type": "stream",
     "text": [
      "slope:  -89.73817673028366\n",
      "intercept:  -0.012251394884331468\n",
      "0\n"
     ]
    }
   ],
   "source": [
    "linear_model =linregress(x,y)\n",
    "slope, intercept = linear_model.slope, linear_model.intercept\n",
    "print(\"slope: \", slope)\n",
    "print(\"intercept: \", intercept)\n",
    "print(get_positive_sign(slope))"
   ]
  }
 ],
 "metadata": {
  "kernelspec": {
   "display_name": "Python 3",
   "language": "python",
   "name": "python3"
  },
  "language_info": {
   "codemirror_mode": {
    "name": "ipython",
    "version": 3
   },
   "file_extension": ".py",
   "mimetype": "text/x-python",
   "name": "python",
   "nbconvert_exporter": "python",
   "pygments_lexer": "ipython3",
   "version": "3.6.5"
  }
 },
 "nbformat": 4,
 "nbformat_minor": 2
}
