{
 "cells": [
  {
   "cell_type": "markdown",
   "metadata": {},
   "source": [
    "# 2 sample t-test with python3\n",
    "\n",
    "Author: Yingding Wang\n",
    "\n",
    "This example is based on the article of [Amulya Aankul](https://towardsdatascience.com/inferential-statistics-series-t-test-using-numpy-2718f8f9bf2f). This is very great introduction to the Student's T-tests.\n",
    "\n",
    "This notebook extend the case for two sample distributions with **unequal sample sizes** and **unequal variance**. The might be the most case in examing the data in practice."
   ]
  },
  {
   "cell_type": "code",
   "execution_count": 1,
   "metadata": {},
   "outputs": [],
   "source": [
    "import numpy as np\n",
    "from scipy import stats\n",
    "np.random.seed(12)\n",
    "## Define 2 random distributions\n",
    "# Sample Size\n",
    "N_a = 10\n",
    "N_b = 20\n",
    "# Gaussian distributed data with mean = 2 and variance = 1 (sigma ** 2)\n",
    "a = np.random.randn(N_a) + 2\n",
    "# Gaussian distributed data with mean = 0 and variance = 2.25 (sigma ** 2)\n",
    "sigma = 1.5\n",
    "b = sigma * np.random.randn(N_b)\n",
    "\n"
   ]
  },
  {
   "cell_type": "code",
   "execution_count": 2,
   "metadata": {},
   "outputs": [],
   "source": [
    "import matplotlib.pyplot as plt\n",
    "%matplotlib inline"
   ]
  },
  {
   "cell_type": "code",
   "execution_count": 3,
   "metadata": {
    "scrolled": false
   },
   "outputs": [
    {
     "name": "stderr",
     "output_type": "stream",
     "text": [
      "/Users/yingding/VENV/udacityDL/lib/python3.6/site-packages/ipykernel_launcher.py:8: DeprecationWarning: object of type <class 'float'> cannot be safely interpreted as an integer.\n",
      "  \n"
     ]
    },
    {
     "data": {
      "image/png": "[encoded data removed]",
      "text/plain": [
       "<Figure size 432x288 with 1 Axes>"
      ]
     },
     "metadata": {},
     "output_type": "display_data"
    },
    {
     "data": {
      "image/png": "[encoded data removed]",
      "text/plain": [
       "<Figure size 432x288 with 1 Axes>"
      ]
     },
     "metadata": {},
     "output_type": "display_data"
    }
   ],
   "source": [
    "def hist_dist(values, hist_range, title):\n",
    "    \"\"\"\n",
    "    Display histogram of ...\n",
    "    \"\"\"\n",
    "    plt.title(title)\n",
    "    # categorie per bin = 2\n",
    "    num_bin = 1 # 2\n",
    "    bins = np.linspace(*hist_range, num=len(values)/num_bin, endpoint=True)\n",
    "    # bins = np.arange(*hist_range)\n",
    "    # print(bins)\n",
    "    # print(values)\n",
    "    plt.hist(values, bins , rwidth=0.8, align='mid')\n",
    "    plt.xlabel(\"sample value\")\n",
    "    plt.ylabel(\"frequency\")\n",
    "    plt.show()\n",
    "\n",
    "hist_dist(a, (-2, 6), \"Histogram sample a\")\n",
    "hist_dist(b, (-4, 4), \"Histogram sample b\")"
   ]
  },
  {
   "cell_type": "markdown",
   "metadata": {},
   "source": [
    "# Calculate the Variance of the samples"
   ]
  },
  {
   "cell_type": "code",
   "execution_count": 4,
   "metadata": {},
   "outputs": [
    {
     "name": "stdout",
     "output_type": "stream",
     "text": [
      "variance a: 1.7166798381347061, variance b: 3.0567262572217047\n"
     ]
    }
   ],
   "source": [
    "#For unbiased max likelihood estimate we have to divide the var by N-1,\n",
    "# and therefore the parameter ddof = 1\n",
    "var_a = a.var(ddof=1)\n",
    "var_b = b.var(ddof=1)\n",
    "\n",
    "print(\"variance a: {}, variance b: {}\".format(var_a, var_b))"
   ]
  },
  {
   "cell_type": "markdown",
   "metadata": {},
   "source": [
    "## Calculate t-score\n",
    "the number in sample a and sample b can by different\n",
    "\n",
    "t-score can be calculated with\n",
    "\n",
    "$t = \\dfrac{M_a - M_b}{\\sqrt{\\dfrac{S_a^2}{N_a} + \\dfrac{S_b^2}{N_b} }} $\n",
    "\n",
    "where $M$ is mean, \n",
    "\n",
    "and $N$ is number of scores per sample"
   ]
  },
  {
   "cell_type": "code",
   "execution_count": 5,
   "metadata": {},
   "outputs": [
    {
     "data": {
      "text/plain": [
       "4.29762495286625"
      ]
     },
     "execution_count": 5,
     "metadata": {},
     "output_type": "execute_result"
    }
   ],
   "source": [
    "t = (a.mean() - b.mean())/np.sqrt(var_a/N_a + var_b/N_b)\n",
    "t"
   ]
  },
  {
   "cell_type": "markdown",
   "metadata": {},
   "source": [
    "## Determin degree of freedom df\n",
    "In case the variance of $n_a$ and $n_b$ are the same:\n",
    "$df = n_a + n_b - 2$\n",
    "\n",
    "In case the variance are not the same ([Welch-Satterthwaite equation](https://en.wikipedia.org/wiki/Welch%27s_t-test)):\n",
    "$df = \\dfrac{\\left(\\dfrac{S_a^2}{N_a} + \\dfrac{S_b^2}{N_b} \\right)^2}{\\dfrac{S_a^4}{N_a^2 * (N_a - 1)} + \\dfrac{S_b^4}{N_b^2 * (N_b - 1)}}$"
   ]
  },
  {
   "cell_type": "code",
   "execution_count": 6,
   "metadata": {},
   "outputs": [
    {
     "data": {
      "text/plain": [
       "23.380667721408322"
      ]
     },
     "execution_count": 6,
     "metadata": {},
     "output_type": "execute_result"
    }
   ],
   "source": [
    "if var_a == var_b:\n",
    "    df = N_a + N_b - 2\n",
    "else:\n",
    "    df = (var_a / N_a + var_b / N_b)**2 / \\\n",
    "    (var_a**2 / (N_a**2 * (N_a - 1)) + (var_b**2 / (N_b**2 * (N_b - 1)) ))\n",
    "df"
   ]
  },
  {
   "cell_type": "markdown",
   "metadata": {},
   "source": [
    "## P-value after comparison with the t"
   ]
  },
  {
   "cell_type": "code",
   "execution_count": 7,
   "metadata": {},
   "outputs": [
    {
     "data": {
      "text/plain": [
       "0.00013003505340114518"
      ]
     },
     "execution_count": 7,
     "metadata": {},
     "output_type": "execute_result"
    }
   ],
   "source": [
    "# we assume the sample distribution are t-distributed\n",
    "p = 1 - stats.t.cdf(t, df=df)\n",
    "p"
   ]
  },
  {
   "cell_type": "markdown",
   "metadata": {},
   "source": [
    "## Multiply the p-value by 2 for a two tailed t-test\n",
    "You can see that after comparing the t statistic with the critical t value (computed internally). we get a good p-value of 0.00026. Thus we reject the null hypothesis. It proves that the mean of the two distributions are different and statistically significant."
   ]
  },
  {
   "cell_type": "code",
   "execution_count": 8,
   "metadata": {},
   "outputs": [
    {
     "name": "stdout",
     "output_type": "stream",
     "text": [
      "t = 4.29762495286625\n",
      "p = 0.000260\n"
     ]
    }
   ],
   "source": [
    "print(\"t = \" + str(t))\n",
    "print(\"p = {:7f}\".format(2*p))\n",
    "\n",
    "#Note that we multiply the p value by 2 because its a two tailed t-test"
   ]
  },
  {
   "cell_type": "markdown",
   "metadata": {},
   "source": [
    "## Cross Checking with the internal scipy function\n",
    "**Note**: stats.ttest_ind() returns already the two tailed p-value"
   ]
  },
  {
   "cell_type": "code",
   "execution_count": 9,
   "metadata": {},
   "outputs": [],
   "source": [
    "# in this example the variance of the two sample distribution are the same\n",
    "# if it is not, set equal_val to False\n",
    "t2, p2 = stats.ttest_ind(a,b, equal_var=False)"
   ]
  },
  {
   "cell_type": "code",
   "execution_count": 10,
   "metadata": {},
   "outputs": [
    {
     "name": "stdout",
     "output_type": "stream",
     "text": [
      "t = 4.29762495286625\n",
      "p = 0.000260\n"
     ]
    }
   ],
   "source": [
    "print(\"t = \" + str(t2))\n",
    "print(\"p = {:7f}\".format(p2))"
   ]
  },
  {
   "cell_type": "markdown",
   "metadata": {},
   "source": [
    "## ttest_ind()"
   ]
  },
  {
   "cell_type": "code",
   "execution_count": 11,
   "metadata": {
    "scrolled": false
   },
   "outputs": [],
   "source": [
    "# use help to display the function docs\n",
    "# help(stats.ttest_ind)"
   ]
  },
  {
   "cell_type": "markdown",
   "metadata": {},
   "source": [
    "# Further thought\n",
    "\n",
    "what might happy, if the sample size increases. Assume the size of samples are not $N_a=10$ or $N_b=20$ but 1000. What will change in the p-value.\n",
    "\n",
    "**Answer** The histogram will look more like bell-shape. Since the sample a and sample b are drawn from the normal distribution with different means. Thus if would be more unlikely the mean of the two distributions are the same. It reflexs on the p-value. P-value will be very close to zero, which indicates the Null-Hypothesis (the mean of the two distribution are the same) can be very confidently rejected. \n",
    "\n",
    "Try to change the sample size $N_a$ or $N_b$ and see what happens :)"
   ]
  },
  {
   "cell_type": "code",
   "execution_count": null,
   "metadata": {},
   "outputs": [],
   "source": []
  }
 ],
 "metadata": {
  "kernelspec": {
   "display_name": "Python 3",
   "language": "python",
   "name": "python3"
  },
  "language_info": {
   "codemirror_mode": {
    "name": "ipython",
    "version": 3
   },
   "file_extension": ".py",
   "mimetype": "text/x-python",
   "name": "python",
   "nbconvert_exporter": "python",
   "pygments_lexer": "ipython3",
   "version": "3.6.5"
  }
 },
 "nbformat": 4,
 "nbformat_minor": 2
}
